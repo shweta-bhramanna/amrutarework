{
 "cells": [
  {
   "cell_type": "markdown",
   "id": "69086afb-3d31-42bc-8f17-2c3293f42397",
   "metadata": {},
   "source": [
    "Q.2"
   ]
  },
  {
   "cell_type": "code",
   "execution_count": 1,
   "id": "afd70fe8-59e8-4031-878e-6356a71a485c",
   "metadata": {},
   "outputs": [
    {
     "data": {
      "text/plain": [
       "['sophia', 'eva', 'emma', 'olivia']"
      ]
     },
     "execution_count": 1,
     "metadata": {},
     "output_type": "execute_result"
    }
   ],
   "source": [
    "names_1 = ['eva','emma','olivia']\n",
    "names_2 = ['olivia','sophia','emma']\n",
    "list(set(names_1+names_2))"
   ]
  },
  {
   "cell_type": "code",
   "execution_count": null,
   "id": "126105ea-1af9-4b86-aac9-13507763fb30",
   "metadata": {},
   "outputs": [],
   "source": []
  }
 ],
 "metadata": {
  "kernelspec": {
   "display_name": "Python 3 (ipykernel)",
   "language": "python",
   "name": "python3"
  },
  "language_info": {
   "codemirror_mode": {
    "name": "ipython",
    "version": 3
   },
   "file_extension": ".py",
   "mimetype": "text/x-python",
   "name": "python",
   "nbconvert_exporter": "python",
   "pygments_lexer": "ipython3",
   "version": "3.9.7"
  }
 },
 "nbformat": 4,
 "nbformat_minor": 5
}
